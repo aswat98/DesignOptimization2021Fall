{
  "nbformat": 4,
  "nbformat_minor": 0,
  "metadata": {
    "colab": {
      "name": "Project 1.ipynb",
      "provenance": [],
      "authorship_tag": "ABX9TyPOHl9eQSXSLITpjUihKegQ",
      "include_colab_link": true
    },
    "kernelspec": {
      "name": "python3",
      "display_name": "Python 3"
    },
    "language_info": {
      "name": "python"
    }
  },
  "cells": [
    {
      "cell_type": "markdown",
      "metadata": {
        "id": "view-in-github",
        "colab_type": "text"
      },
      "source": [
        "<a href=\"https://colab.research.google.com/github/aswat98/DesignOptimization2021Fall/blob/main/Project_1.ipynb\" target=\"_parent\"><img src=\"https://colab.research.google.com/assets/colab-badge.svg\" alt=\"Open In Colab\"/></a>"
      ]
    },
    {
      "cell_type": "code",
      "metadata": {
        "id": "059kGwU-eeEr"
      },
      "source": [
        "import logging\n",
        "import math\n",
        "import random\n",
        "import numpy as np\n",
        "import time\n",
        "import torch as t\n",
        "import torch.nn as nn\n",
        "from torch import optim\n",
        "from torch.nn import utils\n",
        "import matplotlib.pyplot as plt\n",
        "\n",
        "logger = logging.getLogger(__name__)"
      ],
      "execution_count": 3,
      "outputs": []
    },
    {
      "cell_type": "code",
      "metadata": {
        "id": "zHlvf2rUew4P"
      },
      "source": [
        "FRAME_TIME = 0.1  # second, time interval\n",
        "GRAVITY_ACCEL = 10.0  # m/s2, graviational force, g\n",
        "BOOST_ACCEL = 15.0  # m/s2, thrust constant"
      ],
      "execution_count": 1,
      "outputs": []
    },
    {
      "cell_type": "code",
      "metadata": {
        "id": "iOrQVxFafcTF"
      },
      "source": [
        "class Dynamics(nn.Module):\n",
        "    def __init__(self):\n",
        "        super(Dynamics, self).__init__()\n",
        "    @staticmethod\n",
        "    def forward(state, action):\n",
        "        \"\"\"\n",
        "        action:\n",
        "        action[0]: y directional boost       \n",
        "        states:\n",
        "        state[0] = y\n",
        "        state[1] = vy  \n",
        "        \"\"\"   \n",
        "        delta_state_gravity = t.tensor([0., GRAVITY_ACCEL * FRAME_TIME])\n",
        "        thrust = action[0]\n",
        "        delta_state_y = BOOST_ACCEL * FRAME_TIME * t.tensor([0., -1.0]) * thrust\n",
        "        state = state + delta_state_y + delta_state_gravity\n",
        "        step_mat = t.tensor([[1., FRAME_TIME], [0., 1.]])      \n",
        "        state = t.matmul(step_mat, state)\n",
        "        return state"
      ],
      "execution_count": 4,
      "outputs": []
    },
    {
      "cell_type": "code",
      "metadata": {
        "id": "ylLnSFh_fuS5"
      },
      "source": [
        "class Dynamics(nn.Module):\n",
        "\n",
        "    def __init__(self):\n",
        "        super(Dynamics, self).__init__()\n",
        "\n",
        "    @staticmethod\n",
        "    def forward(state, action):\n",
        "\n",
        "        \"\"\"\n",
        "        action: thrust or no thrust\n",
        "        state[0] = y\n",
        "        state[1] = y_dot\n",
        "        \"\"\"\n",
        "\n",
        "        state[1] = state[1] + GRAVITY_ACCEL * FRAME_TIME - BOOST_ACCEL * FRAME_TIME * action\n",
        "        \n",
        "        \n",
        "        step_mat = t.tensor([[1., FRAME_TIME],\n",
        "                            [0., 1.]])\n",
        "        state = t.matmul(step_mat, state)\n",
        "\n",
        "        return state"
      ],
      "execution_count": 5,
      "outputs": []
    },
    {
      "cell_type": "code",
      "metadata": {
        "id": "DIvwlPjUf7bk"
      },
      "source": [
        "class Controller(nn.Module):\n",
        "    def __init__(self, dim_input, dim_hidden, dim_output):\n",
        "        \"\"\"\n",
        "        dim_input: # of system states\n",
        "        dim_output: # of actions\n",
        "        dim_hidden: up to you\n",
        "        \"\"\"\n",
        "        super(Controller, self).__init__()\n",
        "        self.network = nn.Sequential(\n",
        "            nn.Linear(dim_input, dim_hidden),\n",
        "            nn.Tanh(),\n",
        "            nn.Linear(dim_hidden, dim_hidden),\n",
        "            nn.Sigmoid()\n",
        "        )\n",
        "    def forward(self, state):\n",
        "        action = self.network(state)\n",
        "        return action"
      ],
      "execution_count": 6,
      "outputs": []
    }
  ]
}