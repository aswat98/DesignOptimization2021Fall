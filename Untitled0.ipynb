{
  "nbformat": 4,
  "nbformat_minor": 0,
  "metadata": {
    "colab": {
      "name": "Untitled0.ipynb",
      "provenance": [],
      "authorship_tag": "ABX9TyMtnJdlWd+VHHDvNC/F3iU3",
      "include_colab_link": true
    },
    "kernelspec": {
      "name": "python3",
      "display_name": "Python 3"
    },
    "language_info": {
      "name": "python"
    }
  },
  "cells": [
    {
      "cell_type": "markdown",
      "metadata": {
        "id": "view-in-github",
        "colab_type": "text"
      },
      "source": [
        "<a href=\"https://colab.research.google.com/github/aswat98/DesignOptimization2021Fall/blob/main/Untitled0.ipynb\" target=\"_parent\"><img src=\"https://colab.research.google.com/assets/colab-badge.svg\" alt=\"Open In Colab\"/></a>"
      ]
    },
    {
      "cell_type": "code",
      "metadata": {
        "id": "059kGwU-eeEr"
      },
      "source": [
        "import logging\n",
        "import math\n",
        "import random\n",
        "import numpy as np\n",
        "import time\n",
        "import torch as t\n",
        "import torch.nn as nn\n",
        "from torch import optim\n",
        "from torch.nn import utils\n",
        "import matplotlib.pyplot as plt\n",
        "\n",
        "logger = logging.getLogger(__name__)"
      ],
      "execution_count": null,
      "outputs": []
    },
    {
      "cell_type": "code",
      "metadata": {
        "id": "zHlvf2rUew4P"
      },
      "source": [
        "FRAME_TIME = 0.1  # second, time interval\n",
        "GRAVITY_ACCEL = 10.0  # m/s2, graviational force, g\n",
        "BOOST_ACCEL = 15.0  # m/s2, thrust constant"
      ],
      "execution_count": null,
      "outputs": []
    }
  ]
}