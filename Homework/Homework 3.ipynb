{
  "nbformat": 4,
  "nbformat_minor": 5,
  "metadata": {
    "kernelspec": {
      "display_name": "Python 3",
      "language": "python",
      "name": "python3"
    },
    "language_info": {
      "codemirror_mode": {
        "name": "ipython",
        "version": 3
      },
      "file_extension": ".py",
      "mimetype": "text/x-python",
      "name": "python",
      "nbconvert_exporter": "python",
      "pygments_lexer": "ipython3",
      "version": "3.7.3"
    },
    "colab": {
      "name": "Homework 3.ipynb",
      "provenance": []
    }
  },
  "cells": [
    {
      "cell_type": "markdown",
      "metadata": {
        "id": "harmful-logging"
      },
      "source": [
        "### Problem 1 (50 points) \n",
        "\n",
        "Vapor-liquid equilibria data are correlated using two adjustable parameters $A_{12}$ and $A_{21}$ per binary\n",
        "mixture. For low pressures, the equilibrium relation can be formulated as:\n",
        "\n",
        "$$\n",
        "\\begin{aligned}\n",
        "p = & x_1\\exp\\left(A_{12}\\left(\\frac{A_{21}x_2}{A_{12}x_1+A_{21}x_2}\\right)^2\\right)p_{water}^{sat}\\\\\n",
        "& + x_2\\exp\\left(A_{21}\\left(\\frac{A_{12}x_1}{A_{12}x_1+A_{21}x_2}\\right)^2\\right)p_{1,4 dioxane}^{sat}.\n",
        "\\end{aligned}\n",
        "$$\n",
        "\n",
        "Here the saturation pressures are given by the Antoine equation\n",
        "\n",
        "$$\n",
        "\\log_{10}(p^{sat}) = a_1 - \\frac{a_2}{T + a_3},\n",
        "$$\n",
        "\n",
        "where $T = 20$($^{\\circ}{\\rm C}$) and $a_{1,2,3}$ for a water - 1,4 dioxane\n",
        "system is given below.\n",
        "\n",
        "|             | $a_1$     | $a_2$      | $a_3$     |\n",
        "|:------------|:--------|:---------|:--------|\n",
        "| Water       | 8.07131 | 1730.63  | 233.426 |\n",
        "| 1,4 dioxane | 7.43155 | 1554.679 | 240.337 |\n",
        "\n",
        "\n",
        "The following table lists the measured data. Recall that in a binary system $x_1 + x_2 = 1$.\n",
        "\n",
        "|$x_1$ | 0.0 | 0.1 | 0.2 | 0.3 | 0.4 | 0.5 | 0.6 | 0.7 | 0.8 | 0.9 | 1.0 |\n",
        "|:-----|:--------|:---------|:--------|:-----|:-----|:-----|:-----|:-----|:-----|:-----|:-----|\n",
        "|$p$| 28.1 | 34.4 | 36.7 | 36.9 | 36.8 | 36.7 | 36.5 | 35.4 | 32.9 | 27.7 | 17.5 |\n",
        "\n",
        "Estimate $A_{12}$ and $A_{21}$ using data from the above table: \n",
        "\n",
        "1. Formulate the least square problem; \n",
        "2. Since the model is nonlinear, the problem does not have an analytical solution. Therefore, solve it using the gradient descent or Newton's method implemented in HW1; \n",
        "3. Compare your optimized model with the data. Does your model fit well with the data?\n",
        "\n",
        "---\n",
        "\n",
        "\n",
        "\n",
        "\n"
      ],
      "id": "harmful-logging"
    },
    {
      "cell_type": "code",
      "metadata": {
        "id": "WWi-g-BEPz6A",
        "colab": {
          "base_uri": "https://localhost:8080/"
        },
        "outputId": "e9bf27d4-9359-41ee-9c52-f359c3eb284d"
      },
      "source": [
        "import numpy as np\n",
        "import torch as t\n",
        "from torch.autograd import Variable\n",
        "\n",
        "x1_info = [0.0,0.1,0.2,0.3,0.4,0.5,0.6,0.7,0.8,0.9,1.0]\n",
        "p_info = [28.1,34.4,36.7,36.9,36.8,36.7,36.5,35.4,32.9,27.7,17.5]\n",
        "p_wsat = 10.0**(8.07131-1730.63/(20.0+233.426))\n",
        "p_dsat = 10.0**(7.43155-1554.679/(20.0+240.337))\n",
        "\n",
        "def loss(a):\n",
        "    total_loss = 0.0\n",
        "    for i in range(11):\n",
        "        x1 = x1_info[i]\n",
        "        p = p_info[i]\n",
        "        p_norm = x1*p_wsat*t.exp(a[0]*(a[1]*(1-x1)/(a[0]*x1+a[1]*(1-x1)))**2) + (1-x1)*p_dsat*t.exp(a[1]*(a[0]*x1/(a[0]*x1+a[1]*(1-x1)))**2)\n",
        "        total_loss = total_loss + (p_norm-p)**2\n",
        "    return total_loss\n",
        "\n",
        "error = 1\n",
        "A = Variable(t.tensor([1.0,1.0]), requires_grad = True)\n",
        "while error>= 0.05:\n",
        "    loss(A).backward()\n",
        "    error = t.linalg.norm(A.grad)\n",
        "    s = .2\n",
        "    while loss(A-s*A.grad) > loss(A):\n",
        "        s = .5*s\n",
        "    with t.no_grad():\n",
        "        A -= s*A.grad\n",
        "        A.grad.zero_()\n",
        "print(A)\n",
        "print(loss(A))"
      ],
      "id": "WWi-g-BEPz6A",
      "execution_count": null,
      "outputs": [
        {
          "output_type": "stream",
          "name": "stdout",
          "text": [
            "tensor([1.9582, 1.6893], requires_grad=True)\n",
            "tensor(0.6702, grad_fn=<AddBackward0>)\n"
          ]
        }
      ]
    },
    {
      "cell_type": "code",
      "metadata": {
        "id": "kOolkuBcQAKE",
        "colab": {
          "base_uri": "https://localhost:8080/"
        },
        "outputId": "f82fc4b6-561b-4668-b7c5-138a494a645c"
      },
      "source": [
        "from math import exp\n",
        "a = [1.9582,1.6893]\n",
        "for i in range(11):\n",
        "    x1 = x1_info[i]\n",
        "    p_norm = x1*p_wsat*exp(a[0]*(a[1]*(1-x1)/(a[0]*x1+a[1]*(1-x1)))**2) + (1-x1)*p_dsat*exp(a[1]*(a[0]*x1/(a[0]*x1+a[1]*(1-x1)))**2)\n",
        "    print((p_norm,3), p_info[i],((p_norm-p_info[i]/p_info[i],4)))"
      ],
      "id": "kOolkuBcQAKE",
      "execution_count": null,
      "outputs": [
        {
          "output_type": "stream",
          "name": "stdout",
          "text": [
            "(28.824099527405245, 3) 28.1 (27.824099527405245, 4)\n",
            "(34.64328584864464, 3) 34.4 (33.64328584864464, 4)\n",
            "(36.452102883335144, 3) 36.7 (35.452102883335144, 4)\n",
            "(36.86661716636917, 3) 36.9 (35.86661716636917, 4)\n",
            "(36.87334015836798, 3) 36.8 (35.87334015836798, 4)\n",
            "(36.74916213399144, 3) 36.7 (35.74916213399144, 4)\n",
            "(36.38987768165168, 3) 36.5 (35.38987768165168, 4)\n",
            "(35.38456535962058, 3) 35.4 (34.38456535962058, 4)\n",
            "(32.94803191258182, 3) 32.9 (31.94803191258182, 4)\n",
            "(27.730647340243344, 3) 27.7 (26.730647340243344, 4)\n",
            "(17.47325208459706, 3) 17.5 (16.47325208459706, 4)\n"
          ]
        }
      ]
    },
    {
      "cell_type": "markdown",
      "metadata": {
        "id": "2UualWx_PxaJ"
      },
      "source": [
        "### Problem 2 (50 points) \n",
        "\n",
        "Solve the following problem using Bayesian Optimization:\n",
        "$$\n",
        "    \\min_{x_1, x_2} \\quad \\left(4-2.1x_1^2 + \\frac{x_1^4}{3}\\right)x_1^2 + x_1x_2 + \\left(-4 + 4x_2^2\\right)x_2^2,\n",
        "$$\n",
        "for $x_1 \\in [-3,3]$ and $x_2 \\in [-2,2]$. A tutorial on Bayesian Optimization can be found [here](https://thuijskens.github.io/2016/12/29/bayesian-optimisation/).\n"
      ],
      "id": "2UualWx_PxaJ"
    },
    {
      "cell_type": "code",
      "metadata": {
        "id": "fzHNKb8DxqaX",
        "outputId": "6b4525bd-b610-40e9-8968-c30d28432d52",
        "colab": {
          "base_uri": "https://localhost:8080/",
          "height": 128
        }
      },
      "source": [
        "import sklearn.gaussian_process as gp\n",
        "import numpy as np\n",
        "from scipy.stats import norm\n",
        "from scipy.optimize import minimize\n",
        "import matplotlib.pyplot as plt\n",
        "\n",
        "from mpl_toolkits import mplot3d\n",
        "def objective(x):\n",
        "  return ((4 - (2.1*(x[0]**2)) + ((x[0]**4)/3))*(x[0]**2)) + (x[0]*x[1]) + ((-4 + 4*x[1]**2)*x[1]**2)\n",
        "def improvement_expected(X_, X, model, k = 0.01):\n",
        "    Y_mu, Y_sigma = model.predict(X, return_std = True)\n",
        "    Y__= model.predict(X_)\n",
        "     with np.errstate(divide='ignore'):\n",
        "        y_best = np.max(Y_sigma)\n",
        "        Z = (Y_mu - y_best - k)/Y_sigma\n",
        "        ei = ((Y_mu - y_best - k)*norm.cdf(Z)) + (Y_sigma*norm.pdf(Z))\n",
        "        ei[Y_sigma == 0.0] = 0.0\n",
        "    return X_[np.argmax(ei)]\n",
        "x1 = np.random.uniform(-3,3,10)\n",
        "x2 = np.random.uniform(-2,2,10)\n",
        "X = np.asarray([[x1],[x2]]).transpose().squeeze(1)\n",
        "Y = np.asarray([objective(x) for x in X])\n",
        "kernel = gp.kernels.Matern()\n",
        "model = gp.GaussianProcessRegressor(kernel=kernel, alpha=1e-4, n_restarts_optimizer=0, normalize_y=True)\n",
        "number_of_iters = 100\n",
        "k = 0.01\n",
        "for i in range(n_iters):\n",
        "    model.fit(X,Y)\n",
        "    # Select next point using expected improvement\n",
        "    x1 = np.random.uniform(-3,3,1000)\n",
        "    x2 = np.random.uniform(-2,2,1000)\n",
        "    X_ = np.asarray([[x1],[x2]]).transpose().squeeze(1)\n",
        "    x_next = expected_improvement(X_ = X_, X = X, model = model)\n",
        "    y_next = objective(x_next)\n",
        "    X = np.vstack((X, x_next))\n",
        "    Y = np.append(Y, y_next)\n",
        "x1_bounds = np.linspace(-3,3, 100)\n",
        "x2_bounds = np.linspace(-2, 2, 100)\n",
        "x_points, y_points= np.meshgrid(x1_bounds, x2_bounds)\n",
        "pts = np.asarray([x_pts,y_pts]).transpose()\n",
        "z__ = np.asarray([[objective(pt) for pt in pt_set] for pt_set in pts])\n",
        "fig = plt.figure(figsize = (10, 7))\n",
        "ax = plt.axes(projection =\"3d\")\n",
        "ax.scatter3D(X[:,0], X[:,1], Y, color = \"blue\")\n",
        "ax.plot_surface(x_pts, y_pts, z__, color='red', alpha = 0.5)\n",
        "plt.show()\n",
        "\n"
      ],
      "id": "fzHNKb8DxqaX",
      "execution_count": 3,
      "outputs": [
        {
          "output_type": "error",
          "ename": "IndentationError",
          "evalue": "ignored",
          "traceback": [
            "\u001b[0;36m  File \u001b[0;32m\"<ipython-input-3-277998646867>\"\u001b[0;36m, line \u001b[0;32m13\u001b[0m\n\u001b[0;31m    with np.errstate(divide='ignore'):\u001b[0m\n\u001b[0m    ^\u001b[0m\n\u001b[0;31mIndentationError\u001b[0m\u001b[0;31m:\u001b[0m unexpected indent\n"
          ]
        }
      ]
    }
  ]
}