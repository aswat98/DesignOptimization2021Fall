{
 "cells": [
  {
   "cell_type": "code",
   "execution_count": 1,
   "id": "97d6e533",
   "metadata": {},
   "outputs": [
    {
     "name": "stdout",
     "output_type": "stream",
     "text": [
      "     fun: 4.093023261752172\n",
      "     jac: array([-2.04645658, -0.186023  , -2.23247957, -2.232678  , -1.48838586])\n",
      " message: 'Optimization terminated successfully'\n",
      "    nfev: 48\n",
      "     nit: 8\n",
      "    njev: 8\n",
      "  status: 0\n",
      " success: True\n",
      "       x: array([-0.76742122,  0.25580707,  0.62795314, -0.11633899,  0.25580707])\n"
     ]
    }
   ],
   "source": [
    "from scipy.optimize import minimize\n",
    "\n",
    "fun = lambda x: (x[0] - x[1])**2 + (x[1] + x[2] - 2)**2 + (x[3] - 1)**2 + (x[4] - 1)**2\n",
    "cons = ({'type': 'eq', 'fun': lambda x: x[0] + 3*x[1]},\n",
    "       {'type' : 'eq', 'fun': lambda x: x[2] + x[3] - 2*x[4]},\n",
    "       {'type' : 'eq', 'fun': lambda x: x[1] - x[4]})\n",
    "b = (-10,10)\n",
    "bnds = (b,b,b,b,b)\n",
    "sol = minimize (fun, (1,2,3,7,9), method= 'SLSQP', bounds = bnds, constraints = cons)\n",
    "print(sol)"
   ]
  },
  {
   "cell_type": "code",
   "execution_count": null,
   "id": "3f3327fa",
   "metadata": {},
   "outputs": [],
   "source": []
  }
 ],
 "metadata": {
  "kernelspec": {
   "display_name": "Python 3",
   "language": "python",
   "name": "python3"
  },
  "language_info": {
   "codemirror_mode": {
    "name": "ipython",
    "version": 3
   },
   "file_extension": ".py",
   "mimetype": "text/x-python",
   "name": "python",
   "nbconvert_exporter": "python",
   "pygments_lexer": "ipython3",
   "version": "3.8.8"
  }
 },
 "nbformat": 4,
 "nbformat_minor": 5
}
