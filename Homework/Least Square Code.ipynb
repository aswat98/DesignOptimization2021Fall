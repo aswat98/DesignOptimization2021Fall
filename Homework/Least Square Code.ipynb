{
 "cells": [
  {
   "cell_type": "code",
   "execution_count": 10,
   "id": "7c4d3ad9",
   "metadata": {},
   "outputs": [
    {
     "name": "stdout",
     "output_type": "stream",
     "text": [
      "tensor([1.9582, 1.6893], requires_grad=True)\n",
      "tensor(0.6702, grad_fn=<AddBackward0>)\n"
     ]
    }
   ],
   "source": [
    "import numpy as np\n",
    "import torch as t\n",
    "from torch.autograd import Variable\n",
    "\n",
    "x1_info = [0.0,0.1,0.2,0.3,0.4,0.5,0.6,0.7,0.8,0.9,1.0]\n",
    "p_info = [28.1,34.4,36.7,36.9,36.8,36.7,36.5,35.4,32.9,27.7,17.5]\n",
    "p_wsat = 10.0**(8.07131-1730.63/(20.0+233.426))\n",
    "p_dsat = 10.0**(7.43155-1554.679/(20.0+240.337))\n",
    "\n",
    "def loss(a):\n",
    "    total_loss = 0.0\n",
    "    for i in range(11):\n",
    "        x1 = x1_info[i]\n",
    "        p = p_info[i]\n",
    "        p_norm = x1*p_wsat*t.exp(a[0]*(a[1]*(1-x1)/(a[0]*x1+a[1]*(1-x1)))**2) + (1-x1)*p_dsat*t.exp(a[1]*(a[0]*x1/(a[0]*x1+a[1]*(1-x1)))**2)\n",
    "        total_loss = total_loss + (p_norm-p)**2\n",
    "    return total_loss\n",
    "\n",
    "error = 1\n",
    "A = Variable(t.tensor([1.0,1.0]), requires_grad = True)\n",
    "while error>= 0.05:\n",
    "    loss(A).backward()\n",
    "    error = t.linalg.norm(A.grad)\n",
    "    s = .2\n",
    "    while loss(A-s*A.grad) > loss(A):\n",
    "        s = .5*s\n",
    "    with t.no_grad():\n",
    "        A -= s*A.grad\n",
    "        A.grad.zero_()\n",
    "print(A)\n",
    "print(loss(A))\n"
   ]
  },
  {
   "cell_type": "code",
   "execution_count": 18,
   "id": "8f744701",
   "metadata": {},
   "outputs": [
    {
     "name": "stdout",
     "output_type": "stream",
     "text": [
      "(28.824099527405245, 3) 28.1 (27.824099527405245, 4)\n",
      "(34.64328584864464, 3) 34.4 (33.64328584864464, 4)\n",
      "(36.452102883335144, 3) 36.7 (35.452102883335144, 4)\n",
      "(36.86661716636917, 3) 36.9 (35.86661716636917, 4)\n",
      "(36.87334015836798, 3) 36.8 (35.87334015836798, 4)\n",
      "(36.74916213399144, 3) 36.7 (35.74916213399144, 4)\n",
      "(36.38987768165168, 3) 36.5 (35.38987768165168, 4)\n",
      "(35.38456535962058, 3) 35.4 (34.38456535962058, 4)\n",
      "(32.94803191258182, 3) 32.9 (31.94803191258182, 4)\n",
      "(27.730647340243344, 3) 27.7 (26.730647340243344, 4)\n",
      "(17.47325208459706, 3) 17.5 (16.47325208459706, 4)\n"
     ]
    }
   ],
   "source": [
    "from math import exp\n",
    "a = [1.9582,1.6893]\n",
    "for i in range(11):\n",
    "    x1 = x1_info[i]\n",
    "    p_norm = x1*p_wsat*exp(a[0]*(a[1]*(1-x1)/(a[0]*x1+a[1]*(1-x1)))**2) + (1-x1)*p_dsat*exp(a[1]*(a[0]*x1/(a[0]*x1+a[1]*(1-x1)))**2)\n",
    "    print((p_norm,3), p_info[i],((p_norm-p_info[i]/p_info[i],4)))"
   ]
  },
  {
   "cell_type": "code",
   "execution_count": null,
   "id": "051400a2",
   "metadata": {},
   "outputs": [],
   "source": []
  },
  {
   "cell_type": "code",
   "execution_count": null,
   "id": "94f55cc7",
   "metadata": {},
   "outputs": [],
   "source": []
  }
 ],
 "metadata": {
  "kernelspec": {
   "display_name": "Python 3",
   "language": "python",
   "name": "python3"
  },
  "language_info": {
   "codemirror_mode": {
    "name": "ipython",
    "version": 3
   },
   "file_extension": ".py",
   "mimetype": "text/x-python",
   "name": "python",
   "nbconvert_exporter": "python",
   "pygments_lexer": "ipython3",
   "version": "3.8.8"
  }
 },
 "nbformat": 4,
 "nbformat_minor": 5
}
